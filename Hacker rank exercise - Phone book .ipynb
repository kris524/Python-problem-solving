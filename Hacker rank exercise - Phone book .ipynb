{
 "cells": [
  {
   "cell_type": "markdown",
   "metadata": {},
   "source": [
    "The task was to create a phone book with data type dictionary which is inputed by the user. The first input is a number of how many entries the phonebook will have. Next, The user inputs name and phone seperated by space. It then shows you the dictionary with names and numbers the user has entered. Next, the user asks queries to the code starting with name. It will show \"name=phone\" if it exists, if it doest it will display \"Not found\""
   ]
  },
  {
   "cell_type": "code",
   "execution_count": 10,
   "metadata": {},
   "outputs": [
    {
     "name": "stdout",
     "output_type": "stream",
     "text": [
      "3\n",
      "sam 123\n",
      "rich 456\n",
      "teri 789\n",
      "{'sam': '123', 'rich': '456', 'teri': '789'}\n",
      "sam\n",
      "sam=123\n",
      "josh\n",
      "Not found\n",
      "rich\n",
      "rich=456\n"
     ]
    }
   ],
   "source": [
    "\n",
    "\n",
    "n = int(input())\n",
    "\n",
    "my_dict = {}\n",
    "for i in range(n):\n",
    "    #name = input() phone = int(input())\n",
    "    name, phone = input().split()\n",
    "    my_dict.update({name : phone})\n",
    "\n",
    "print(my_dict)\n",
    "\n",
    "#if query == my_dict.keys():\n",
    " #   print(my_dict[query])\n",
    "j =0    \n",
    "while j < n:\n",
    "    query = input()\n",
    "    if query in my_dict.keys():\n",
    "        print(f'{query}={my_dict[query]}')\n",
    "        #break\n",
    "        #query = input()\n",
    "        j+=1\n",
    "        \n",
    "    else:\n",
    "        print('Not found')\n",
    "        #break\n",
    "        #query = input() \n",
    "        j+=1\n",
    "        \n",
    "    #if query != my_dict.keys():\n",
    "     #   print('Not found')\n",
    "        #break\n",
    "      #  query = input() \n",
    "    \n",
    "    \n",
    "#for j in my_dict.keys():\n",
    "    #if query == j:\n",
    "       # print(query,'=',my_dict[j])\n",
    "   # if query != j:\n",
    "       # print('Not found')\n",
    "        #break "
   ]
  },
  {
   "cell_type": "code",
   "execution_count": null,
   "metadata": {},
   "outputs": [],
   "source": []
  },
  {
   "cell_type": "code",
   "execution_count": 8,
   "metadata": {},
   "outputs": [
    {
     "data": {
      "text/plain": [
       "dict_keys(['q'])"
      ]
     },
     "execution_count": 8,
     "metadata": {},
     "output_type": "execute_result"
    }
   ],
   "source": []
  },
  {
   "cell_type": "code",
   "execution_count": null,
   "metadata": {},
   "outputs": [],
   "source": []
  },
  {
   "cell_type": "code",
   "execution_count": null,
   "metadata": {},
   "outputs": [],
   "source": [
    "\n"
   ]
  }
 ],
 "metadata": {
  "kernelspec": {
   "display_name": "Python 3",
   "language": "python",
   "name": "python3"
  },
  "language_info": {
   "codemirror_mode": {
    "name": "ipython",
    "version": 3
   },
   "file_extension": ".py",
   "mimetype": "text/x-python",
   "name": "python",
   "nbconvert_exporter": "python",
   "pygments_lexer": "ipython3",
   "version": "3.7.4"
  }
 },
 "nbformat": 4,
 "nbformat_minor": 2
}
