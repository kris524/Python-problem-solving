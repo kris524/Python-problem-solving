{
 "cells": [
  {
   "cell_type": "code",
   "execution_count": 20,
   "metadata": {},
   "outputs": [
    {
     "name": "stdout",
     "output_type": "stream",
     "text": [
      "r for rock, p for paper and s for scissorss\n",
      "user selected s\n",
      "comp selectd p\n",
      "user wins\n"
     ]
    }
   ],
   "source": [
    "import random\n",
    "\n",
    "user = input('r for rock, p for paper and s for scissors')\n",
    "\n",
    "comp = random.choice(['r','p','s'])\n",
    "\n",
    "if user == comp:\n",
    "    print('tie')\n",
    "    \n",
    "if user == 'r' and comp=='s' or user =='s' and comp=='p' or user =='p' and comp=='r':\n",
    "    print(f'user selected {user}')\n",
    "    print(f'comp selectd {comp}')\n",
    "    print('user wins')\n",
    "if user == 's' and comp == 'r' or user == 'p' and comp == 's' or user == 'r' and comp == 'p':\n",
    "    print(f'user selected {user}')\n",
    "    print(f'comp selectd {comp}')\n",
    "    print('comp wins')\n",
    "    \n",
    "\n"
   ]
  }
 ],
 "metadata": {
  "kernelspec": {
   "display_name": "Python 3",
   "language": "python",
   "name": "python3"
  },
  "language_info": {
   "codemirror_mode": {
    "name": "ipython",
    "version": 3
   },
   "file_extension": ".py",
   "mimetype": "text/x-python",
   "name": "python",
   "nbconvert_exporter": "python",
   "pygments_lexer": "ipython3",
   "version": "3.7.4"
  }
 },
 "nbformat": 4,
 "nbformat_minor": 2
}
