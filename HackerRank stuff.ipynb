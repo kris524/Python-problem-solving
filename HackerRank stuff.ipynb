{
 "cells": [
  {
   "cell_type": "code",
   "execution_count": 1,
   "metadata": {
    "collapsed": true
   },
   "outputs": [
    {
     "name": "stdout",
     "output_type": "stream",
     "text": [
      "3\n",
      "insert 2 3\n",
      "['insert', '2', '3']\n",
      "insert\n",
      "print\n",
      "['print']\n",
      "print\n",
      "[3]\n",
      "reverse\n",
      "['reverse']\n",
      "reverse\n"
     ]
    }
   ],
   "source": [
    "if __name__ == '__main__':\n",
    "    #N shows how many operations we want to do\n",
    "    N = int(input())\n",
    "    li=[]\n",
    "    for i in range(N):\n",
    "        p = input()\n",
    "        n = p.split(' ')\n",
    "        #print(n)\n",
    "        a = n[0]\n",
    "        #print(a)\n",
    "        \n",
    "        if a==\"insert\":\n",
    "            b=int(n[1])\n",
    "            #print(b)\n",
    "            c=int(n[2])\n",
    "            #print(c)\n",
    "            li.insert(b,c)\n",
    "            #print(li)\n",
    "        elif a==\"print\":\n",
    "            print(li)\n",
    "        elif a==\"remove\":\n",
    "            b=int(n[1])\n",
    "            li.remove(b)\n",
    "        elif a==\"append\":\n",
    "            b=int(n[1])\n",
    "            li.append(b)\n",
    "        elif a==\"sort\":\n",
    "            li.sort()\n",
    "        elif a==\"pop\":\n",
    "            li.pop()      \n",
    "        elif a==\"reverse\":\n",
    "            li.reverse()"
   ]
  },
  {
   "cell_type": "code",
   "execution_count": 5,
   "metadata": {},
   "outputs": [
    {
     "name": "stdout",
     "output_type": "stream",
     "text": [
      "2\n",
      "1 2\n",
      "3713081631934410656\n"
     ]
    }
   ],
   "source": [
    "if __name__ == '__main__':\n",
    "    n = int(input())\n",
    "    integer_list = map(int, input().split())\n",
    "    t = tuple(integer_list)\n",
    "    print(hash(t))\n",
    "    \n",
    "    \n",
    "    "
   ]
  },
  {
   "cell_type": "code",
   "execution_count": 41,
   "metadata": {},
   "outputs": [
    {
     "name": "stdout",
     "output_type": "stream",
     "text": [
      "1\n",
      "10\n",
      "6°\n"
     ]
    }
   ],
   "source": [
    "import math\n",
    "AB = int(input())\n",
    "\n",
    "BC = int(input())\n",
    "\n",
    "angle = round(math.degrees(math.atan2(AB,BC)))\n",
    "\n",
    "#print(angle)\n",
    "#AC = math.sqrt(AB**2 + BC**2)\n",
    "#print(AC)\n",
    "#MC = AC/2\n",
    "\n",
    "#angle = math.asin(MC/BC) \n",
    "#angle = round(angle* 180 / math.pi)\n",
    "print(str(angle)+u\"\\N{DEGREE SIGN}\")"
   ]
  },
  {
   "cell_type": "code",
   "execution_count": 89,
   "metadata": {},
   "outputs": [
    {
     "name": "stdout",
     "output_type": "stream",
     "text": [
      "hACKERrANK.COM PRESENTS \"pYTHONIST 2\".\n"
     ]
    }
   ],
   "source": [
    "def swap_case(s):\n",
    "    s_modi_list=[]\n",
    "    for i in range(0, len(s)):\n",
    "        if s[i].isupper():\n",
    "            s_modified = s[i].lower()\n",
    "            s_modi_list.append(s_modified)\n",
    "            \n",
    "        elif s[i].islower():\n",
    "            s_modified = s[i].upper()\n",
    "            s_modi_list.append(s_modified)\n",
    "            \n",
    "        else:\n",
    "            s_modi_list.append(s[i])\n",
    "            \n",
    "        #elif s[i] == '.':\n",
    "            #s_modi_list.append(s[i])\n",
    "        #elif s[i] == ' ':\n",
    "            #s_modi_list.append(s[i])\n",
    "        #elif s[i] = \n",
    "        \n",
    "            \n",
    "    return ''.join(s_modi_list)\n",
    "print(swap_case('HackerRank.com presents \"Pythonist 2\".'))"
   ]
  },
  {
   "cell_type": "code",
   "execution_count": 71,
   "metadata": {},
   "outputs": [
    {
     "name": "stdout",
     "output_type": "stream",
     "text": [
      "a\n",
      "b\n",
      "c\n",
      "d\n",
      "c\n",
      "v\n",
      "r\n",
      "e\n",
      "w\n",
      ".\n",
      "A\n",
      "A\n",
      "A\n",
      "A\n",
      "A\n",
      "A\n"
     ]
    }
   ],
   "source": [
    "stra = 'abcdcvrew.AAA'\n",
    "\n",
    "for i in range(0,len(stra)):\n",
    "    print(stra[i])\n",
    "    if stra[i].isupper():\n",
    "        print(stra[i])\n",
    "    "
   ]
  },
  {
   "cell_type": "code",
   "execution_count": null,
   "metadata": {},
   "outputs": [],
   "source": []
  },
  {
   "cell_type": "code",
   "execution_count": null,
   "metadata": {},
   "outputs": [],
   "source": []
  },
  {
   "cell_type": "code",
   "execution_count": null,
   "metadata": {},
   "outputs": [],
   "source": []
  },
  {
   "cell_type": "markdown",
   "metadata": {},
   "source": []
  }
 ],
 "metadata": {
  "kernelspec": {
   "display_name": "Python 3",
   "language": "python",
   "name": "python3"
  },
  "language_info": {
   "codemirror_mode": {
    "name": "ipython",
    "version": 3
   },
   "file_extension": ".py",
   "mimetype": "text/x-python",
   "name": "python",
   "nbconvert_exporter": "python",
   "pygments_lexer": "ipython3",
   "version": "3.7.4"
  }
 },
 "nbformat": 4,
 "nbformat_minor": 2
}
