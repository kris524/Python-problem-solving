{
 "cells": [
  {
   "cell_type": "code",
   "execution_count": 1,
   "metadata": {
    "collapsed": true
   },
   "outputs": [
    {
     "name": "stdout",
     "output_type": "stream",
     "text": [
      "3\n",
      "insert 2 3\n",
      "['insert', '2', '3']\n",
      "insert\n",
      "print\n",
      "['print']\n",
      "print\n",
      "[3]\n",
      "reverse\n",
      "['reverse']\n",
      "reverse\n"
     ]
    }
   ],
   "source": [
    "if __name__ == '__main__':\n",
    "    #N shows how many operations we want to do\n",
    "    N = int(input())\n",
    "    li=[]\n",
    "    for i in range(N):\n",
    "        p = input()\n",
    "        n = p.split(' ')\n",
    "        #print(n)\n",
    "        a = n[0]\n",
    "        #print(a)\n",
    "        \n",
    "        if a==\"insert\":\n",
    "            b=int(n[1])\n",
    "            #print(b)\n",
    "            c=int(n[2])\n",
    "            #print(c)\n",
    "            li.insert(b,c)\n",
    "            #print(li)\n",
    "        elif a==\"print\":\n",
    "            print(li)\n",
    "        elif a==\"remove\":\n",
    "            b=int(n[1])\n",
    "            li.remove(b)\n",
    "        elif a==\"append\":\n",
    "            b=int(n[1])\n",
    "            li.append(b)\n",
    "        elif a==\"sort\":\n",
    "            li.sort()\n",
    "        elif a==\"pop\":\n",
    "            li.pop()      \n",
    "        elif a==\"reverse\":\n",
    "            li.reverse()"
   ]
  },
  {
   "cell_type": "code",
   "execution_count": 5,
   "metadata": {},
   "outputs": [
    {
     "name": "stdout",
     "output_type": "stream",
     "text": [
      "2\n",
      "1 2\n",
      "3713081631934410656\n"
     ]
    }
   ],
   "source": [
    "if __name__ == '__main__':\n",
    "    n = int(input())\n",
    "    integer_list = map(int, input().split())\n",
    "    t = tuple(integer_list)\n",
    "    print(hash(t))\n",
    "    \n",
    "    \n",
    "    "
   ]
  },
  {
   "cell_type": "code",
   "execution_count": 41,
   "metadata": {},
   "outputs": [
    {
     "name": "stdout",
     "output_type": "stream",
     "text": [
      "1\n",
      "10\n",
      "6°\n"
     ]
    }
   ],
   "source": [
    "import math\n",
    "AB = int(input())\n",
    "\n",
    "BC = int(input())\n",
    "\n",
    "angle = round(math.degrees(math.atan2(AB,BC)))\n",
    "\n",
    "#print(angle)\n",
    "#AC = math.sqrt(AB**2 + BC**2)\n",
    "#print(AC)\n",
    "#MC = AC/2\n",
    "\n",
    "#angle = math.asin(MC/BC) \n",
    "#angle = round(angle* 180 / math.pi)\n",
    "print(str(angle)+u\"\\N{DEGREE SIGN}\")"
   ]
  },
  {
   "cell_type": "code",
   "execution_count": 89,
   "metadata": {},
   "outputs": [
    {
     "name": "stdout",
     "output_type": "stream",
     "text": [
      "hACKERrANK.COM PRESENTS \"pYTHONIST 2\".\n"
     ]
    }
   ],
   "source": [
    "def swap_case(s):\n",
    "    s_modi_list=[]\n",
    "    for i in range(0, len(s)):\n",
    "        if s[i].isupper():\n",
    "            s_modified = s[i].lower()\n",
    "            s_modi_list.append(s_modified)\n",
    "            \n",
    "        elif s[i].islower():\n",
    "            s_modified = s[i].upper()\n",
    "            s_modi_list.append(s_modified)\n",
    "            \n",
    "        else:\n",
    "            s_modi_list.append(s[i])\n",
    "            \n",
    "        #elif s[i] == '.':\n",
    "            #s_modi_list.append(s[i])\n",
    "        #elif s[i] == ' ':\n",
    "            #s_modi_list.append(s[i])\n",
    "        #elif s[i] = \n",
    "        \n",
    "            \n",
    "    return ''.join(s_modi_list)\n",
    "print(swap_case('HackerRank.com presents \"Pythonist 2\".'))"
   ]
  },
  {
   "cell_type": "code",
   "execution_count": 71,
   "metadata": {
    "collapsed": true
   },
   "outputs": [
    {
     "name": "stdout",
     "output_type": "stream",
     "text": [
      "a\n",
      "b\n",
      "c\n",
      "d\n",
      "c\n",
      "v\n",
      "r\n",
      "e\n",
      "w\n",
      ".\n",
      "A\n",
      "A\n",
      "A\n",
      "A\n",
      "A\n",
      "A\n"
     ]
    }
   ],
   "source": [
    "stra = 'abcdcvrew.AAA'\n",
    "\n",
    "for i in range(0,len(stra)):\n",
    "    print(stra[i])\n",
    "    if stra[i].isupper():\n",
    "        print(stra[i])\n",
    "    "
   ]
  },
  {
   "cell_type": "code",
   "execution_count": 103,
   "metadata": {},
   "outputs": [
    {
     "data": {
      "text/plain": [
       "(2, 1)"
      ]
     },
     "execution_count": 103,
     "metadata": {},
     "output_type": "execute_result"
    }
   ],
   "source": [
    "#DAY 2:\n",
    "def compareTriplets(a, b):\n",
    "    Alice = 0\n",
    "    Bob = 0\n",
    "    for i in range(3):\n",
    "        if a[i] > b[i]:\n",
    "            Alice+=1\n",
    "        elif a[i] < b[i]:\n",
    "            Bob+=1\n",
    "            \n",
    "        #else:\n",
    "            \n",
    "    return Alice, Bob\n",
    "            \n",
    "              \n",
    "        \n",
    "\n",
    "compareTriplets([5,5,0],[1,1,1])"
   ]
  },
  {
   "cell_type": "code",
   "execution_count": 101,
   "metadata": {},
   "outputs": [
    {
     "name": "stdout",
     "output_type": "stream",
     "text": [
      "0\n",
      "1\n",
      "2\n",
      "3\n"
     ]
    }
   ],
   "source": [
    "a=range(4)\n",
    "for i in a:\n",
    "    print(i)"
   ]
  },
  {
   "cell_type": "code",
   "execution_count": 117,
   "metadata": {},
   "outputs": [
    {
     "name": "stdout",
     "output_type": "stream",
     "text": [
      "[[1, 2, 3, 4], [5, 6, 7, 8], [1, 2, 3, 4], [5, 6, 7, 8]]\n"
     ]
    },
    {
     "data": {
      "text/plain": [
       "array([5, 2, 7])"
      ]
     },
     "execution_count": 117,
     "metadata": {},
     "output_type": "execute_result"
    }
   ],
   "source": [
    "import numpy as np\n",
    "def diagonalDifference(arr):\n",
    "    # Write your code here\n",
    "    diag1 = np.diagonal(arr)\n",
    "    diag2 = np.diagonal(arr,-1)\n",
    "    return diag2\n",
    "            \n",
    " \n",
    "    \n",
    "    \n",
    "array = [[ 1, 2, 3, 4 ],\n",
    "     [ 5, 6, 7, 8 ],\n",
    "     [ 1, 2, 3, 4 ],\n",
    "     [ 5, 6, 7, 8 ]]\n",
    "print(array)\n",
    "diagonalDifference(array)    "
   ]
  },
  {
   "cell_type": "code",
   "execution_count": 127,
   "metadata": {},
   "outputs": [
    {
     "data": {
      "text/plain": [
       "0"
      ]
     },
     "execution_count": 127,
     "metadata": {},
     "output_type": "execute_result"
    }
   ],
   "source": [
    "MAX = 100\n",
    " \n",
    "# Function to print the Principal Diagonal\n",
    "def printPrincipalDiagonal(mat):\n",
    "    #print(\"Principal Diagonal: \", end = \"\")\n",
    "    diag1=[]\n",
    "    diag2=[]\n",
    "    for i in range(0,len(mat)):\n",
    "        for j in range(0,len(mat)):\n",
    "            \n",
    "            # Condition for principal diagonal\n",
    "            if (i == j):\n",
    "                diag1.append(mat[i][j])\n",
    "    diag1 = sum(diag1)\n",
    "                \n",
    "    for i in range(0,len(mat)):\n",
    "        for j in range(0,len(mat)):\n",
    " \n",
    "            # Condition for secondary diagonal\n",
    "            if ((i + j) == (len(mat) - 1)):\n",
    "                diag2.append(mat[i][j])\n",
    "    diag2 = sum(diag2)\n",
    "    return abs(diag2 - diag1)\n",
    "            \n",
    "    \n",
    "#Function to print the Secondary Diagonal\n",
    "printPrincipalDiagonal(array)"
   ]
  },
  {
   "cell_type": "code",
   "execution_count": 133,
   "metadata": {},
   "outputs": [
    {
     "data": {
      "text/plain": [
       "'abra-ka-abra'"
      ]
     },
     "execution_count": 133,
     "metadata": {},
     "output_type": "execute_result"
    }
   ],
   "source": [
    "def split_and_join(line):\n",
    "    # write your code here\n",
    "    line2 = line.split(' ')\n",
    "    \n",
    "    return '-'.join(line2)\n",
    "    \n",
    "split_and_join('abra ka abra')    "
   ]
  },
  {
   "cell_type": "code",
   "execution_count": 135,
   "metadata": {},
   "outputs": [
    {
     "data": {
      "text/plain": [
       "'abrackdabra'"
      ]
     },
     "execution_count": 135,
     "metadata": {},
     "output_type": "execute_result"
    }
   ],
   "source": [
    "def mutate_string(string, position, character):\n",
    "    list1 = list(string)\n",
    "    list1[position]=character\n",
    "    ''.join(list1)\n",
    "    return ''.join(list1)\n",
    "mutate_string('abracadabra', 5, 'k')"
   ]
  },
  {
   "cell_type": "code",
   "execution_count": 144,
   "metadata": {},
   "outputs": [
    {
     "data": {
      "text/plain": [
       "2"
      ]
     },
     "execution_count": 144,
     "metadata": {},
     "output_type": "execute_result"
    }
   ],
   "source": [
    "def count_substring(string, sub_string):\n",
    "    results = 0\n",
    "    sub_len = len(sub_string) \n",
    "    for i in range(len(string)):\n",
    "        if string[i:i+sub_len] == sub_string: \n",
    "            results += 1\n",
    "    return results\n",
    "    \n",
    "#help used from here:\n",
    "#https://stackoverflow.com/questions/11476713/determining-how-many-times-a-substring-occurs-in-a-string-in-python\n",
    "    \n",
    "count_substring('ABCDCDC','CDC')"
   ]
  },
  {
   "cell_type": "code",
   "execution_count": 172,
   "metadata": {},
   "outputs": [
    {
     "name": "stdout",
     "output_type": "stream",
     "text": [
      "True\n",
      "True\n",
      "True\n",
      "True\n",
      "True\n"
     ]
    }
   ],
   "source": [
    "s ='qA2'\n",
    "print(any(map(lambda x: x.isalnum(), s)))\n",
    "print(any(map(lambda x: x.isalpha(), s)))\n",
    "print(any(map(lambda x: x.isdigit(), s)))\n",
    "print(any(map(lambda x: x.islower(), s)))\n",
    "print(any(map(lambda x: x.isupper(), s)))      \n",
    "        \n",
    "\n",
    "        \n",
    "    \n",
    "    \n",
    "    \n",
    "    \n",
    "   # print(s[i].isalnum())\n",
    "    #print(s[i].isalpha())\n",
    "    #print(s[i].isdigit())\n",
    "    #print(s[i].islower())\n",
    "    #print(s[i].isupper())"
   ]
  },
  {
   "cell_type": "code",
   "execution_count": 163,
   "metadata": {},
   "outputs": [],
   "source": [
    "for i in range(0,len(s)):\n",
    "    if s[0: 0+len(s)].isalnum():\n",
    "        if s[0: 0+len(s)].isdigit():\n",
    "            print(True)\n",
    "       \n",
    "    if s[0: 0+len(s)].isalpha():\n",
    "        print(True)\n",
    "        \n",
    "        \n",
    "    if s[0: 0+len(s)].isdigit():\n",
    "        print(True)\n",
    "        \n",
    "        \n",
    "    if s[i: i+len(s)].islower():\n",
    "        print(True)\n",
    "        \n",
    "        \n",
    "    if s[0: 0+len(s)].isupper():\n",
    "        print(True)"
   ]
  },
  {
   "cell_type": "code",
   "execution_count": 202,
   "metadata": {},
   "outputs": [
    {
     "name": "stdout",
     "output_type": "stream",
     "text": [
      "-1-5j\n",
      "<class 'str'>\n",
      "- 1-\n",
      "5.0990195135927845\n",
      "-1.3734007669450161\n"
     ]
    }
   ],
   "source": [
    " #eturn the radius and phase angle of the complex numebr\n",
    "z = input()\n",
    "print(type(z))\n",
    "\n",
    "print(z[0],z[1:3])\n",
    "\n",
    "\n",
    "if z[0] == '-':\n",
    "    z_1 = int(z[0:2])\n",
    "    z_2 = int(z[2:4])\n",
    "    r_ = math.sqrt(z_1**2 + z_2**2)\n",
    "\n",
    "\n",
    "    phi_ = math.asin(z_2/r_)\n",
    "\n",
    "    #print(z_1, z_2)\n",
    "    print(r_)\n",
    "    print(phi_)\n",
    "    \n",
    "else:\n",
    "    \n",
    "\n",
    "\n",
    "    z1 = int(z[0])\n",
    "    z2 = int(z[1:3])\n",
    "\n",
    "    r = math.sqrt(z1**2 + z2**2)\n",
    "\n",
    "\n",
    "    phi = math.asin(z2/r)\n",
    "\n",
    "    #print(type(z1), z2)\n",
    "    print(r)\n",
    "    print(phi)\n",
    "\n",
    "    \n",
    "    \n",
    "    \n",
    "    "
   ]
  },
  {
   "cell_type": "code",
   "execution_count": null,
   "metadata": {},
   "outputs": [],
   "source": []
  },
  {
   "cell_type": "markdown",
   "metadata": {},
   "source": []
  }
 ],
 "metadata": {
  "kernelspec": {
   "display_name": "Python 3",
   "language": "python",
   "name": "python3"
  },
  "language_info": {
   "codemirror_mode": {
    "name": "ipython",
    "version": 3
   },
   "file_extension": ".py",
   "mimetype": "text/x-python",
   "name": "python",
   "nbconvert_exporter": "python",
   "pygments_lexer": "ipython3",
   "version": "3.7.4"
  }
 },
 "nbformat": 4,
 "nbformat_minor": 2
}
