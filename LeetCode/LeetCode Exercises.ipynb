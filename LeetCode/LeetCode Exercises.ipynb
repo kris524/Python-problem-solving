{
 "metadata": {
  "language_info": {
   "codemirror_mode": {
    "name": "ipython",
    "version": 3
   },
   "file_extension": ".py",
   "mimetype": "text/x-python",
   "name": "python",
   "nbconvert_exporter": "python",
   "pygments_lexer": "ipython3",
   "version": "3.9.0"
  },
  "orig_nbformat": 4,
  "kernelspec": {
   "name": "python3",
   "display_name": "Python 3.9.0 64-bit"
  },
  "interpreter": {
   "hash": "a9c1387708d9e4974b2be20baf1ba03d24dc421de985eaacaca663e211393d73"
  }
 },
 "nbformat": 4,
 "nbformat_minor": 2,
 "cells": [
  {
   "source": [
    "The quesiton solved is: https://leetcode.com/problems/destination-city/"
   ],
   "cell_type": "markdown",
   "metadata": {}
  },
  {
   "cell_type": "code",
   "execution_count": 24,
   "metadata": {},
   "outputs": [
    {
     "output_type": "stream",
     "name": "stdout",
     "text": [
      "Sao Paulo\n"
     ]
    }
   ],
   "source": [
    "arr = [[\"London\",\"New York\"],[\"New York\",\"Lima\"],[\"Lima\",\"Sao Paulo\"]]\n",
    "final = []\n",
    "\n",
    "for i in range(0,len(arr)):\n",
    "    for j in range(0,len(arr)):\n",
    "        if arr[i][1] != arr[j][0]  and i!=j:\n",
    "            final.append(arr[i][1])\n",
    "\n",
    "#rint(final)\n",
    "for i in final:\n",
    "    if final.count(i) == 2:\n",
    "        print(i)\n",
    "        break"
   ]
  },
  {
   "source": [
    "Given a binary array nums, return the maximum number of consecutive 1's in the array."
   ],
   "cell_type": "markdown",
   "metadata": {}
  },
  {
   "cell_type": "code",
   "execution_count": 29,
   "metadata": {},
   "outputs": [
    {
     "output_type": "stream",
     "name": "stdout",
     "text": [
      "3\n"
     ]
    }
   ],
   "source": [
    "\n",
    "\n",
    "def counter(nums):\n",
    "    count = 0\n",
    "    list_count = []\n",
    "    for i in range(len(nums)):\n",
    "        if nums[i] ==1:\n",
    "            count+=1\n",
    "            list_count.append(count)\n",
    "        elif nums[i] ==0:\n",
    "            count =0\n",
    "    if list_count == []:\n",
    "        print(0)\n",
    "\n",
    "    else:\n",
    "        print(max(list_count))\n",
    "       \n",
    "\n",
    "    #print(max(list_count))\n",
    "counter([1,1,0,1,1,1])"
   ]
  },
  {
   "source": [
    "You have been given an array of size N consisting of integers. In addition you have been given an element M you need to find and print the index of the last occurrence of this element M in the array if it exists in it, otherwise print -1. Consider this array to be 1 indexed."
   ],
   "cell_type": "markdown",
   "metadata": {}
  },
  {
   "cell_type": "code",
   "execution_count": 65,
   "metadata": {},
   "outputs": [
    {
     "output_type": "stream",
     "name": "stdout",
     "text": [
      "5\n"
     ]
    }
   ],
   "source": [
    "#x, y = map(int, input().split())\n",
    "#inputs = []for i in range(x):  # loop 3 times\tinputs.append(input())\n",
    "weights = list(map(int, input().rstrip().split()))\n",
    "vals = list(map(int, input().rstrip().split()))\n",
    "\n",
    "def indexing(array, m):\n",
    "    for i in range(len(array)):\n",
    "        if array[i] == m:\n",
    "            a = i\n",
    "    print(a+1)\n",
    "\n",
    "\n",
    "indexing(vals, weights[1])"
   ]
  }
 ]
}