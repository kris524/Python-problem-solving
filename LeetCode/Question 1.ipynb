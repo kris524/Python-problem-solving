{
 "metadata": {
  "language_info": {
   "codemirror_mode": {
    "name": "ipython",
    "version": 3
   },
   "file_extension": ".py",
   "mimetype": "text/x-python",
   "name": "python",
   "nbconvert_exporter": "python",
   "pygments_lexer": "ipython3",
   "version": "3.9.0"
  },
  "orig_nbformat": 4,
  "kernelspec": {
   "name": "python3",
   "display_name": "Python 3.9.0 64-bit"
  },
  "interpreter": {
   "hash": "a9c1387708d9e4974b2be20baf1ba03d24dc421de985eaacaca663e211393d73"
  }
 },
 "nbformat": 4,
 "nbformat_minor": 2,
 "cells": [
  {
   "source": [
    "The quesiton solved is: https://leetcode.com/problems/destination-city/"
   ],
   "cell_type": "markdown",
   "metadata": {}
  },
  {
   "cell_type": "code",
   "execution_count": 24,
   "metadata": {},
   "outputs": [
    {
     "output_type": "stream",
     "name": "stdout",
     "text": [
      "Sao Paulo\n"
     ]
    }
   ],
   "source": [
    "arr = [[\"London\",\"New York\"],[\"New York\",\"Lima\"],[\"Lima\",\"Sao Paulo\"]]\n",
    "final = []\n",
    "\n",
    "for i in range(0,len(arr)):\n",
    "    for j in range(0,len(arr)):\n",
    "        if arr[i][1] != arr[j][0]  and i!=j:\n",
    "            final.append(arr[i][1])\n",
    "\n",
    "#rint(final)\n",
    "for i in final:\n",
    "    if final.count(i) == 2:\n",
    "        print(i)\n",
    "        break"
   ]
  }
 ]
}