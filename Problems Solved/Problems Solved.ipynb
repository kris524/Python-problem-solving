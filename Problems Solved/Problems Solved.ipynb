{
 "metadata": {
  "language_info": {
   "codemirror_mode": {
    "name": "ipython",
    "version": 3
   },
   "file_extension": ".py",
   "mimetype": "text/x-python",
   "name": "python",
   "nbconvert_exporter": "python",
   "pygments_lexer": "ipython3",
   "version": "3.9.0"
  },
  "orig_nbformat": 4,
  "kernelspec": {
   "name": "python3",
   "display_name": "Python 3.9.0 64-bit"
  },
  "interpreter": {
   "hash": "a9c1387708d9e4974b2be20baf1ba03d24dc421de985eaacaca663e211393d73"
  }
 },
 "nbformat": 4,
 "nbformat_minor": 2,
 "cells": [
  {
   "source": [
    "Problem: https://www.hackerrank.com/challenges/jumping-on-the-clouds/problem?h_l=interview&playlist_slugs%5B%5D=interview-preparation-kit&playlist_slugs%5B%5D=warmup"
   ],
   "cell_type": "markdown",
   "metadata": {}
  },
  {
   "cell_type": "code",
   "execution_count": 59,
   "metadata": {},
   "outputs": [
    {
     "output_type": "error",
     "ename": "IndexError",
     "evalue": "list index out of range",
     "traceback": [
      "\u001b[1;31m---------------------------------------------------------------------------\u001b[0m",
      "\u001b[1;31mIndexError\u001b[0m                                Traceback (most recent call last)",
      "\u001b[1;32m<ipython-input-59-6f42e53d4fbe>\u001b[0m in \u001b[0;36m<module>\u001b[1;34m\u001b[0m\n\u001b[0;32m     22\u001b[0m     \u001b[0mprint\u001b[0m\u001b[1;33m(\u001b[0m\u001b[0mcount\u001b[0m\u001b[1;33m,\u001b[0m\u001b[0mjump\u001b[0m\u001b[1;33m)\u001b[0m\u001b[1;33m\u001b[0m\u001b[1;33m\u001b[0m\u001b[0m\n\u001b[0;32m     23\u001b[0m \u001b[1;33m\u001b[0m\u001b[0m\n\u001b[1;32m---> 24\u001b[1;33m \u001b[0mjumpingOnClouds\u001b[0m\u001b[1;33m(\u001b[0m\u001b[1;33m[\u001b[0m\u001b[1;36m0\u001b[0m\u001b[1;33m,\u001b[0m\u001b[1;36m1\u001b[0m\u001b[1;33m,\u001b[0m\u001b[1;36m0\u001b[0m\u001b[1;33m,\u001b[0m\u001b[1;36m0\u001b[0m\u001b[1;33m,\u001b[0m\u001b[1;36m0\u001b[0m\u001b[1;33m,\u001b[0m\u001b[1;36m1\u001b[0m\u001b[1;33m,\u001b[0m\u001b[1;36m0\u001b[0m\u001b[1;33m]\u001b[0m\u001b[1;33m)\u001b[0m\u001b[1;33m\u001b[0m\u001b[1;33m\u001b[0m\u001b[0m\n\u001b[0m",
      "\u001b[1;32m<ipython-input-59-6f42e53d4fbe>\u001b[0m in \u001b[0;36mjumpingOnClouds\u001b[1;34m(c)\u001b[0m\n\u001b[0;32m      7\u001b[0m             \u001b[1;32mbreak\u001b[0m\u001b[1;33m\u001b[0m\u001b[1;33m\u001b[0m\u001b[0m\n\u001b[0;32m      8\u001b[0m         \u001b[1;32mwhile\u001b[0m \u001b[0mi\u001b[0m\u001b[1;33m<\u001b[0m \u001b[0mlen\u001b[0m\u001b[1;33m(\u001b[0m\u001b[0mc\u001b[0m\u001b[1;33m)\u001b[0m\u001b[1;33m:\u001b[0m\u001b[1;33m\u001b[0m\u001b[1;33m\u001b[0m\u001b[0m\n\u001b[1;32m----> 9\u001b[1;33m             \u001b[1;32mif\u001b[0m \u001b[0mc\u001b[0m\u001b[1;33m[\u001b[0m\u001b[0mi\u001b[0m\u001b[1;33m+\u001b[0m\u001b[1;36m2\u001b[0m\u001b[1;33m]\u001b[0m\u001b[1;33m==\u001b[0m\u001b[1;36m0\u001b[0m\u001b[1;33m:\u001b[0m\u001b[1;33m\u001b[0m\u001b[1;33m\u001b[0m\u001b[0m\n\u001b[0m\u001b[0;32m     10\u001b[0m                 \u001b[0mcount\u001b[0m\u001b[1;33m+=\u001b[0m\u001b[1;36m2\u001b[0m\u001b[1;33m\u001b[0m\u001b[1;33m\u001b[0m\u001b[0m\n\u001b[0;32m     11\u001b[0m                 \u001b[0mjump\u001b[0m\u001b[1;33m+=\u001b[0m\u001b[1;36m1\u001b[0m\u001b[1;33m\u001b[0m\u001b[1;33m\u001b[0m\u001b[0m\n",
      "\u001b[1;31mIndexError\u001b[0m: list index out of range"
     ]
    }
   ],
   "source": [
    "def jumpingOnClouds(c):\n",
    "    count = 0\n",
    "    jump = 0\n",
    "    # Write your code here\n",
    "    for i in range(0,len(c)):\n",
    "        if i == len(c)-1:\n",
    "            break\n",
    "        while i< len(c):\n",
    "            if c[i+2]==0:\n",
    "                count+=2\n",
    "                jump+=1\n",
    "                break\n",
    "            \n",
    "            else:\n",
    "\n",
    "                jump+=1\n",
    "                count+=1\n",
    "                break\n",
    "                \n",
    "\n",
    "        \n",
    "    print(count,jump)\n",
    "\n",
    "jumpingOnClouds([0,1,0,0,0,1,0])"
   ]
  },
  {
   "cell_type": "code",
   "execution_count": 38,
   "metadata": {},
   "outputs": [
    {
     "output_type": "execute_result",
     "data": {
      "text/plain": [
       "3"
      ]
     },
     "metadata": {},
     "execution_count": 38
    }
   ],
   "source": [
    "def jump(c):\n",
    "    i = 0\n",
    "    jump = 0\n",
    "                #6\n",
    "    while i<len(c)-1:\n",
    "        #for 2 jumps\n",
    "        if i+2<len(c) and c[i+2] ==0:\n",
    "            i+=2\n",
    "            jump+=1\n",
    "\n",
    "        else:\n",
    "            i+=1\n",
    "            jump+=1\n",
    "\n",
    "    return jump\n",
    "\n",
    "jump([0,1,0,0,0,1,0])"
   ]
  },
  {
   "source": [
    "Problem solved: https://www.hackerrank.com/challenges/repeated-string/problem"
   ],
   "cell_type": "markdown",
   "metadata": {}
  },
  {
   "cell_type": "code",
   "execution_count": 48,
   "metadata": {},
   "outputs": [
    {
     "output_type": "stream",
     "name": "stdout",
     "text": [
      "1\n1\n3\n4\n"
     ]
    }
   ],
   "source": [
    "\n",
    "import math\n",
    "import os\n",
    "import random\n",
    "import re\n",
    "import sys\n",
    "\n",
    "\n",
    "new_s = []\n",
    "def repeatedString(s, n):\n",
    "    # Write your code here\n",
    "    num_a = s.count('a')\n",
    "    print(num_a)\n",
    "    #the number of repeated strings multiplied by the number of a's in a single string\n",
    "    count_1 = n//len(s) * num_a\n",
    "    #find the number of a's in the remaining string \n",
    "    count_2 = s[0:n%len(s)].count('a')\n",
    "    print(count_2)\n",
    "    print(count_1)\n",
    "    return count_2 +count_1 \n",
    "\n",
    "\n",
    "print(repeatedString('abc',10))\n",
    "\n"
   ]
  },
  {
   "source": [
    "Problem Solved: https://www.hackerrank.com/challenges/ctci-array-left-rotation/problem?h_l=interview&playlist_slugs%5B%5D=interview-preparation-kit&playlist_slugs%5B%5D=arrays"
   ],
   "cell_type": "markdown",
   "metadata": {}
  },
  {
   "cell_type": "code",
   "execution_count": 10,
   "metadata": {},
   "outputs": [
    {
     "output_type": "stream",
     "name": "stdout",
     "text": [
      "[5, 1, 2, 3, 4]\n"
     ]
    }
   ],
   "source": [
    "def rotLeft(a, d):\n",
    "    # Write your code here\n",
    "    i =0\n",
    "    for j in range(d):\n",
    "        \n",
    "        #pop takes index as a parameter\n",
    "        #but a.index prints the index of the parameter \n",
    "        a.append(a.pop(i))\n",
    "\n",
    "        #print(a)\n",
    "    print(a)\n",
    "\n",
    "rotLeft([1,2,3,4,5],4)"
   ]
  },
  {
   "source": [
    "Problem solved: https://www.hackerrank.com/challenges/collections-counter/problem?h_r=profile"
   ],
   "cell_type": "markdown",
   "metadata": {}
  },
  {
   "cell_type": "code",
   "execution_count": 118,
   "metadata": {},
   "outputs": [
    {
     "output_type": "stream",
     "name": "stdout",
     "text": [
      "5\n"
     ]
    }
   ],
   "source": [
    "from collections import Counter\n",
    "\n",
    "#Enter the X... number of sheos\n",
    "X = int(input())\n",
    "#Enter the shoe sizes\n",
    "# = map(int, raw_input().split()\n",
    "#shoe_sizes = [2, 3, 4, 5 ,6 ,8 ,7, 6, 5, 18]\n",
    "\n",
    "shoe_sizes =  map(int, input().split())\n",
    "c= Counter(shoe_sizes)\n",
    "#enter the N... number of customers\n",
    "N = int(input())\n",
    "\n",
    "#enter the shoe size wanted with price\n",
    "money = 0\n",
    "for i in range(N):\n",
    "    size, price = map(int, input().split())\n",
    "    #print(size, price)\n",
    "    \n",
    "\n",
    "\n",
    "    \n",
    "    \n",
    "      \n",
    "        \n",
    "  \n",
    "   #print(key, value)\n",
    "    if c[size]:\n",
    "        c[size]-=1\n",
    "        money += price\n",
    "\n",
    "#print(c)\n",
    "print(money)\n",
    "\n",
    "\n",
    "\n",
    "\n",
    "\n"
   ]
  },
  {
   "cell_type": "code",
   "execution_count": 27,
   "metadata": {},
   "outputs": [
    {
     "output_type": "stream",
     "name": "stdout",
     "text": [
      "7\n"
     ]
    }
   ],
   "source": [
    "#Problem: Given a string, print how many times a certain letter appears\n",
    "\n",
    "def split(word):\n",
    "    return [char for char in word]\n",
    "\n",
    "string = 'alabala akser asvbggta'\n",
    "string_list = split(string)\n",
    "#print(string_list)\n",
    "count = 0\n",
    "for i in range(len(string_list)):\n",
    "    #print(string_list[i])\n",
    "    if string_list[i] == 'a':\n",
    "        count+=1\n",
    "\n",
    "print(count)"
   ]
  },
  {
   "source": [
    "Problem Solved: https://www.hackerrank.com/challenges/itertools-permutations/problem?h_r=profile "
   ],
   "cell_type": "markdown",
   "metadata": {}
  },
  {
   "cell_type": "code",
   "execution_count": 44,
   "metadata": {},
   "outputs": [
    {
     "output_type": "stream",
     "name": "stdout",
     "text": [
      "AC\nAH\nAK\nCA\nCH\nCK\nHA\nHC\nHK\nKA\nKC\nKH\n"
     ]
    }
   ],
   "source": [
    "\n",
    "\n",
    "from itertools import permutations\n",
    "\n",
    "params = list(input().rstrip().split())\n",
    "#print(params)\n",
    "final = list(permutations(params[0], int(params[1])))\n",
    "\n",
    "def convertTuple(tup):\n",
    "        # initialize an empty string\n",
    "    str = ''\n",
    "    for item in tup:\n",
    "        str = str + item\n",
    "    return str\n",
    "\n",
    "final.sort()\n",
    "for i in range(len(final)):\n",
    "    print(convertTuple(final[i]))\n"
   ]
  },
  {
   "source": [
    "Problem solved: https://coderbyte.com/results/kris514:Codeland%20Username%20Validation:Python3"
   ],
   "cell_type": "markdown",
   "metadata": {}
  },
  {
   "cell_type": "code",
   "execution_count": 82,
   "metadata": {},
   "outputs": [
    {
     "output_type": "stream",
     "name": "stdout",
     "text": [
      "True\n"
     ]
    }
   ],
   "source": [
    "import string\n",
    "string.ascii_lowercase\n",
    "def CodelandUsernameValidation(strParam):\n",
    "\n",
    "  if len(strParam)>4 and len(strParam)<25 and strParam.startswith(tuple(string.ascii_letters)) and any(char.isdigit() for char in strParam):\n",
    "      if '_' in strParam and not strParam.endswith('_'):\n",
    "        return True\n",
    "  else:\n",
    "    return False\n",
    "       \n",
    "      \n",
    "\n",
    "  # code goes here\n",
    "  \n",
    "\n",
    "# keep this function call here \n",
    "print(CodelandUsernameValidation(input()))"
   ]
  },
  {
   "source": [
    "Problem solved: https://coderbyte.com/editor/Find%20Intersection:Python3"
   ],
   "cell_type": "markdown",
   "metadata": {}
  },
  {
   "cell_type": "code",
   "execution_count": 201,
   "metadata": {},
   "outputs": [
    {
     "output_type": "stream",
     "name": "stdout",
     "text": [
      "False\n"
     ]
    }
   ],
   "source": [
    "def FindIntersection(arr):\n",
    "\n",
    "    #arr = ['1,2,3', '4,5,6'] # transfrom it into ['1','2','3','1','5','6'] and then iterate with nested loop\n",
    "    arr0 = arr[0].split(', ')\n",
    "    arr1 = arr[1].split(', ')\n",
    "#arr = arr0 + arr1\n",
    "\n",
    " \n",
    "    res = [val for val in arr0 if val in arr1]\n",
    "#print(res)\n",
    "    return ','.join(res) if len(res)>0 else False\n",
    "  # code goes here\n",
    "  \n",
    "\n",
    "# keep this function call here \n",
    "print(FindIntersection(input()))"
   ]
  }
 ]
}