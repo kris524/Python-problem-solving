{
 "metadata": {
  "language_info": {
   "codemirror_mode": {
    "name": "ipython",
    "version": 3
   },
   "file_extension": ".py",
   "mimetype": "text/x-python",
   "name": "python",
   "nbconvert_exporter": "python",
   "pygments_lexer": "ipython3",
   "version": "3.9.0"
  },
  "orig_nbformat": 4,
  "kernelspec": {
   "name": "python3",
   "display_name": "Python 3.9.0 64-bit"
  },
  "interpreter": {
   "hash": "a9c1387708d9e4974b2be20baf1ba03d24dc421de985eaacaca663e211393d73"
  }
 },
 "nbformat": 4,
 "nbformat_minor": 2,
 "cells": [
  {
   "source": [
    "Problem: https://www.hackerrank.com/challenges/jumping-on-the-clouds/problem?h_l=interview&playlist_slugs%5B%5D=interview-preparation-kit&playlist_slugs%5B%5D=warmup"
   ],
   "cell_type": "markdown",
   "metadata": {}
  },
  {
   "cell_type": "code",
   "execution_count": 59,
   "metadata": {},
   "outputs": [
    {
     "output_type": "error",
     "ename": "IndexError",
     "evalue": "list index out of range",
     "traceback": [
      "\u001b[1;31m---------------------------------------------------------------------------\u001b[0m",
      "\u001b[1;31mIndexError\u001b[0m                                Traceback (most recent call last)",
      "\u001b[1;32m<ipython-input-59-6f42e53d4fbe>\u001b[0m in \u001b[0;36m<module>\u001b[1;34m\u001b[0m\n\u001b[0;32m     22\u001b[0m     \u001b[0mprint\u001b[0m\u001b[1;33m(\u001b[0m\u001b[0mcount\u001b[0m\u001b[1;33m,\u001b[0m\u001b[0mjump\u001b[0m\u001b[1;33m)\u001b[0m\u001b[1;33m\u001b[0m\u001b[1;33m\u001b[0m\u001b[0m\n\u001b[0;32m     23\u001b[0m \u001b[1;33m\u001b[0m\u001b[0m\n\u001b[1;32m---> 24\u001b[1;33m \u001b[0mjumpingOnClouds\u001b[0m\u001b[1;33m(\u001b[0m\u001b[1;33m[\u001b[0m\u001b[1;36m0\u001b[0m\u001b[1;33m,\u001b[0m\u001b[1;36m1\u001b[0m\u001b[1;33m,\u001b[0m\u001b[1;36m0\u001b[0m\u001b[1;33m,\u001b[0m\u001b[1;36m0\u001b[0m\u001b[1;33m,\u001b[0m\u001b[1;36m0\u001b[0m\u001b[1;33m,\u001b[0m\u001b[1;36m1\u001b[0m\u001b[1;33m,\u001b[0m\u001b[1;36m0\u001b[0m\u001b[1;33m]\u001b[0m\u001b[1;33m)\u001b[0m\u001b[1;33m\u001b[0m\u001b[1;33m\u001b[0m\u001b[0m\n\u001b[0m",
      "\u001b[1;32m<ipython-input-59-6f42e53d4fbe>\u001b[0m in \u001b[0;36mjumpingOnClouds\u001b[1;34m(c)\u001b[0m\n\u001b[0;32m      7\u001b[0m             \u001b[1;32mbreak\u001b[0m\u001b[1;33m\u001b[0m\u001b[1;33m\u001b[0m\u001b[0m\n\u001b[0;32m      8\u001b[0m         \u001b[1;32mwhile\u001b[0m \u001b[0mi\u001b[0m\u001b[1;33m<\u001b[0m \u001b[0mlen\u001b[0m\u001b[1;33m(\u001b[0m\u001b[0mc\u001b[0m\u001b[1;33m)\u001b[0m\u001b[1;33m:\u001b[0m\u001b[1;33m\u001b[0m\u001b[1;33m\u001b[0m\u001b[0m\n\u001b[1;32m----> 9\u001b[1;33m             \u001b[1;32mif\u001b[0m \u001b[0mc\u001b[0m\u001b[1;33m[\u001b[0m\u001b[0mi\u001b[0m\u001b[1;33m+\u001b[0m\u001b[1;36m2\u001b[0m\u001b[1;33m]\u001b[0m\u001b[1;33m==\u001b[0m\u001b[1;36m0\u001b[0m\u001b[1;33m:\u001b[0m\u001b[1;33m\u001b[0m\u001b[1;33m\u001b[0m\u001b[0m\n\u001b[0m\u001b[0;32m     10\u001b[0m                 \u001b[0mcount\u001b[0m\u001b[1;33m+=\u001b[0m\u001b[1;36m2\u001b[0m\u001b[1;33m\u001b[0m\u001b[1;33m\u001b[0m\u001b[0m\n\u001b[0;32m     11\u001b[0m                 \u001b[0mjump\u001b[0m\u001b[1;33m+=\u001b[0m\u001b[1;36m1\u001b[0m\u001b[1;33m\u001b[0m\u001b[1;33m\u001b[0m\u001b[0m\n",
      "\u001b[1;31mIndexError\u001b[0m: list index out of range"
     ]
    }
   ],
   "source": [
    "def jumpingOnClouds(c):\n",
    "    count = 0\n",
    "    jump = 0\n",
    "    # Write your code here\n",
    "    for i in range(0,len(c)):\n",
    "        if i == len(c)-1:\n",
    "            break \n",
    "        while i< len(c):\n",
    "            if c[i+2]==0:\n",
    "                count+=2\n",
    "                jump+=1\n",
    "                break\n",
    "            \n",
    "            else:\n",
    "\n",
    "                jump+=1\n",
    "                count+=1\n",
    "                break\n",
    "                \n",
    "\n",
    "        \n",
    "    print(count,jump)\n",
    "\n",
    "jumpingOnClouds([0,1,0,0,0,1,0])"
   ]
  },
  {
   "cell_type": "code",
   "execution_count": 38,
   "metadata": {},
   "outputs": [
    {
     "output_type": "execute_result",
     "data": {
      "text/plain": [
       "3"
      ]
     },
     "metadata": {},
     "execution_count": 38
    }
   ],
   "source": [
    "def jump(c):\n",
    "    i = 0\n",
    "    jump = 0\n",
    "                #6\n",
    "    while i<len(c)-1:\n",
    "        #for 2 jumps\n",
    "        if i+2<len(c) and c[i+2] ==0:\n",
    "            i+=2\n",
    "            jump+=1\n",
    "\n",
    "        else:\n",
    "            i+=1\n",
    "            jump+=1\n",
    "\n",
    "    return jump\n",
    "\n",
    "jump([0,1,0,0,0,1,0])"
   ]
  },
  {
   "source": [
    "Problem solved: https://www.hackerrank.com/challenges/repeated-string/problem"
   ],
   "cell_type": "markdown",
   "metadata": {}
  },
  {
   "cell_type": "code",
   "execution_count": 48,
   "metadata": {},
   "outputs": [
    {
     "output_type": "stream",
     "name": "stdout",
     "text": [
      "1\n1\n3\n4\n"
     ]
    }
   ],
   "source": [
    "\n",
    "import math\n",
    "import os\n",
    "import random\n",
    "import re\n",
    "import sys\n",
    "\n",
    "\n",
    "new_s = []\n",
    "def repeatedString(s, n):\n",
    "    # Write your code here\n",
    "    num_a = s.count('a')\n",
    "    print(num_a)\n",
    "    #the number of repeated strings multiplied by the number of a's in a single string\n",
    "    count_1 = n//len(s) * num_a\n",
    "    #find the number of a's in the remaining string \n",
    "    count_2 = s[0:n%len(s)].count('a')\n",
    "    print(count_2)\n",
    "    print(count_1)\n",
    "    return count_2 +count_1 \n",
    "\n",
    "\n",
    "print(repeatedString('abc',10))\n",
    "\n"
   ]
  },
  {
   "source": [
    "Problem Solved: https://www.hackerrank.com/challenges/ctci-array-left-rotation/problem?h_l=interview&playlist_slugs%5B%5D=interview-preparation-kit&playlist_slugs%5B%5D=arrays"
   ],
   "cell_type": "markdown",
   "metadata": {}
  },
  {
   "cell_type": "code",
   "execution_count": 10,
   "metadata": {},
   "outputs": [
    {
     "output_type": "stream",
     "name": "stdout",
     "text": [
      "[5, 1, 2, 3, 4]\n"
     ]
    }
   ],
   "source": [
    "def rotLeft(a, d):\n",
    "    # Write your code here\n",
    "    i =0\n",
    "    for j in range(d):\n",
    "        \n",
    "        #pop takes index as a parameter\n",
    "        #but a.index prints the index of the parameter \n",
    "        a.append(a.pop(i))\n",
    "\n",
    "        #print(a)\n",
    "    print(a)\n",
    "\n",
    "rotLeft([1,2,3,4,5],4)"
   ]
  },
  {
   "source": [
    "Problem solved: https://www.hackerrank.com/challenges/collections-counter/problem?h_r=profile"
   ],
   "cell_type": "markdown",
   "metadata": {}
  },
  {
   "cell_type": "code",
   "execution_count": 118,
   "metadata": {},
   "outputs": [
    {
     "output_type": "stream",
     "name": "stdout",
     "text": [
      "5\n"
     ]
    }
   ],
   "source": [
    "from collections import Counter\n",
    "\n",
    "#Enter the X... number of sheos\n",
    "X = int(input())\n",
    "#Enter the shoe sizes\n",
    "# = map(int, raw_input().split()\n",
    "#shoe_sizes = [2, 3, 4, 5 ,6 ,8 ,7, 6, 5, 18]\n",
    "\n",
    "shoe_sizes =  map(int, input().split())\n",
    "c= Counter(shoe_sizes)\n",
    "#enter the N... number of customers\n",
    "N = int(input())\n",
    "\n",
    "#enter the shoe size wanted with price\n",
    "money = 0\n",
    "for i in range(N):\n",
    "    size, price = map(int, input().split())\n",
    "    #print(size, price)\n",
    "    \n",
    "\n",
    "\n",
    "    \n",
    "    \n",
    "      \n",
    "        \n",
    "  \n",
    "   #print(key, value)\n",
    "    if c[size]:\n",
    "        c[size]-=1\n",
    "        money += price\n",
    "\n",
    "#print(c)\n",
    "print(money)\n",
    "\n",
    "\n",
    "\n",
    "\n",
    "\n"
   ]
  },
  {
   "cell_type": "code",
   "execution_count": 27,
   "metadata": {},
   "outputs": [
    {
     "output_type": "stream",
     "name": "stdout",
     "text": [
      "7\n"
     ]
    }
   ],
   "source": [
    "#Problem: Given a string, print how many times a certain letter appears\n",
    "\n",
    "def split(word):\n",
    "    return [char for char in word]\n",
    "\n",
    "string = 'alabala akser asvbggta'\n",
    "string_list = split(string)\n",
    "#print(string_list)\n",
    "count = 0\n",
    "for i in range(len(string_list)):\n",
    "    #print(string_list[i])\n",
    "    if string_list[i] == 'a':\n",
    "        count+=1\n",
    "\n",
    "print(count)"
   ]
  },
  {
   "source": [
    "Problem Solved: https://www.hackerrank.com/challenges/itertools-permutations/problem?h_r=profile "
   ],
   "cell_type": "markdown",
   "metadata": {}
  },
  {
   "cell_type": "code",
   "execution_count": 44,
   "metadata": {},
   "outputs": [
    {
     "output_type": "stream",
     "name": "stdout",
     "text": [
      "AC\nAH\nAK\nCA\nCH\nCK\nHA\nHC\nHK\nKA\nKC\nKH\n"
     ]
    }
   ],
   "source": [
    "\n",
    "\n",
    "from itertools import permutations\n",
    "\n",
    "params = list(input().rstrip().split())\n",
    "#print(params)\n",
    "final = list(permutations(params[0], int(params[1])))\n",
    "\n",
    "def convertTuple(tup):\n",
    "        # initialize an empty string\n",
    "    str = ''\n",
    "    for item in tup:\n",
    "        str = str + item\n",
    "    return str\n",
    "\n",
    "final.sort()\n",
    "for i in range(len(final)):\n",
    "    print(convertTuple(final[i]))\n"
   ]
  },
  {
   "source": [
    "Problem solved: https://coderbyte.com/results/kris514:Codeland%20Username%20Validation:Python3"
   ],
   "cell_type": "markdown",
   "metadata": {}
  },
  {
   "cell_type": "code",
   "execution_count": 82,
   "metadata": {},
   "outputs": [
    {
     "output_type": "stream",
     "name": "stdout",
     "text": [
      "True\n"
     ]
    }
   ],
   "source": [
    "import string\n",
    "string.ascii_lowercase\n",
    "def CodelandUsernameValidation(strParam):\n",
    "\n",
    "  if len(strParam)>4 and len(strParam)<25 and strParam.startswith(tuple(string.ascii_letters)) and any(char.isdigit() for char in strParam):\n",
    "      if '_' in strParam and not strParam.endswith('_'):\n",
    "        return True\n",
    "  else:\n",
    "    return False\n",
    "       \n",
    "      \n",
    "\n",
    "  # code goes here\n",
    "  \n",
    "\n",
    "# keep this function call here \n",
    "print(CodelandUsernameValidation(input()))"
   ]
  },
  {
   "source": [
    "Problem solved: https://coderbyte.com/editor/Find%20Intersection:Python3"
   ],
   "cell_type": "markdown",
   "metadata": {}
  },
  {
   "cell_type": "code",
   "execution_count": 201,
   "metadata": {},
   "outputs": [
    {
     "output_type": "stream",
     "name": "stdout",
     "text": [
      "False\n"
     ]
    }
   ],
   "source": [
    "def FindIntersection(arr):\n",
    "\n",
    "    #arr = ['1,2,3', '4,5,6'] # transfrom it into ['1','2','3','1','5','6'] and then iterate with nested loop\n",
    "    arr0 = arr[0].split(', ')\n",
    "    arr1 = arr[1].split(', ')\n",
    "#arr = arr0 + arr1\n",
    "\n",
    " \n",
    "    res = [val for val in arr0 if val in arr1]\n",
    "#print(res)\n",
    "    return ','.join(res) if len(res)>0 else False\n",
    "  # code goes here\n",
    "  \n",
    "\n",
    "# keep this function call here \n",
    "print(FindIntersection(input()))"
   ]
  },
  {
   "cell_type": "code",
   "execution_count": 60,
   "metadata": {},
   "outputs": [
    {
     "output_type": "execute_result",
     "data": {
      "text/plain": [
       "-1"
      ]
     },
     "metadata": {},
     "execution_count": 60
    }
   ],
   "source": [
    "\n",
    "def ArithGeo(arr):\n",
    "   \n",
    "    r = arr[1] / arr[0]\n",
    "    if all(arr[i+1]/arr[i] == r for i in range(len(arr)-1)):\n",
    "        return 'Geometric'\n",
    "    #return True\n",
    "\n",
    "    #for i in range(len(arr) - 2):\n",
    "    delta = arr[1] - arr[0] \n",
    "    if all(arr[i+1] - arr[i] == delta for i in range(len(arr)-1)):\n",
    "        return 'Arithmetic'\n",
    "\n",
    "    else:\n",
    "        return -1\n",
    "        \n",
    "\n",
    "\n",
    "\n",
    "  # code goes here\n",
    "ArithGeo([10,110,210,310,410,511])\n",
    "# keep this function call here \n",
    "#print(ArithGeo(input()))"
   ]
  },
  {
   "cell_type": "code",
   "execution_count": 107,
   "metadata": {},
   "outputs": [
    {
     "output_type": "stream",
     "name": "stdout",
     "text": [
      "arrb6???4xxbl5???eee5\n6\n1\n0\n2\n0\n3\n0\n10\n15\n4\n0\n5\n0\n6\n0\n20\n"
     ]
    }
   ],
   "source": [
    "import string\n",
    "\n",
    "stre = \"arrb6???4xxbl5???eee5\"\n",
    "\n",
    "#stre = list(stre)\n",
    "print(stre)\n",
    "statement = 0\n",
    "a = 0\n",
    "count = 0\n",
    "for i in stre:\n",
    "    if i.isdigit():\n",
    "        a += int(i)\n",
    "        print(a)\n",
    "        #for i in range(len(stre)):\n",
    "    if '?' == i:\n",
    "        count+=1\n",
    "        print(count)\n",
    "        if count == 3 and a ==10:\n",
    "            statement = True\n",
    "        if count !=3 and a ==10:\n",
    "            statement = False\n",
    "        \n",
    "        print(statement)\n",
    "\n",
    "       \n",
    "        \n",
    "        \n"
   ]
  },
  {
   "cell_type": "code",
   "execution_count": 2,
   "metadata": {},
   "outputs": [
    {
     "output_type": "execute_result",
     "data": {
      "text/plain": [
       "5"
      ]
     },
     "metadata": {},
     "execution_count": 2
    }
   ],
   "source": [
    "def maxDiff(a):\n",
    "    vmin = a[0]\n",
    "    dmax = 0\n",
    "    for i in range(len(a)):\n",
    "        if (a[i] < vmin):\n",
    "            vmin = a[i]\n",
    "        elif (a[i] - vmin > dmax):\n",
    "            dmax = a[i] - vmin\n",
    "    return dmax\n",
    "\n",
    "maxDiff([10,12,4,5,9])"
   ]
  },
  {
   "cell_type": "code",
   "execution_count": 22,
   "metadata": {
    "tags": []
   },
   "outputs": [
    {
     "output_type": "stream",
     "name": "stdout",
     "text": [
      "128\n"
     ]
    }
   ],
   "source": [
    "#count how many ages are >= 50 from the link below\n",
    "import requests\n",
    "import numpy as np\n",
    "import pandas as pd\n",
    "import string\n",
    "r = requests.get('https://coderbyte.com/api/challenges/json/age-counting')\n",
    "#print(len(r.json()['data']))\n",
    "#print(r.json().values())\n",
    "val = list(r.json().values())\n",
    "#It is a one long string\n",
    "val = val[0].split(', ')\n",
    "\n",
    "#print(val)\n",
    "#print(val)\n",
    "ages = []\n",
    "for i in range(len(val)):\n",
    "  if 'age' in val[i]:\n",
    "    ages.append(val[i])\n",
    "\n",
    "\n",
    "count_age = 0\n",
    "for i in ages:\n",
    "  a = int(i[4:])\n",
    "  #print(a)\n",
    "  if a >=50:\n",
    "    count_age+=1\n",
    "  #print(val[i])\n",
    "print(count_age)\n"
   ]
  },
  {
   "cell_type": "code",
   "execution_count": 104,
   "metadata": {},
   "outputs": [
    {
     "output_type": "stream",
     "name": "stdout",
     "text": [
      "casafrew\n"
     ]
    }
   ],
   "source": [
    "import string\n",
    "\n",
    "letters = list(string.ascii_letters)\n",
    "#print(letters)\n",
    "def LongestWord(sen):\n",
    "    word=''\n",
    "    #words = sen.split(' ')\n",
    "    #print(len(words))\n",
    "    for i in sen:\n",
    "        #a = list(i)\n",
    "        if i in string.ascii_letters:\n",
    "            word += i\n",
    "            #print(word)\n",
    "           \n",
    "        if i == ' ':\n",
    "            word += ' '\n",
    "\n",
    "    word = word.split(' ')\n",
    "    print(max(word,key = len))\n",
    "    #Source: https://stackoverflow.com/questions/1629728/how-to-find-length-of-an-element-in-a-list/1629774\n",
    "\n",
    "       \n",
    "    \n",
    "LongestWord(\"casafre33w ggr  ttyoth\")\n"
   ]
  },
  {
   "cell_type": "code",
   "execution_count": 108,
   "metadata": {},
   "outputs": [
    {
     "output_type": "stream",
     "name": "stdout",
     "text": [
      "78\n"
     ]
    }
   ],
   "source": [
    "def SimpleAdding(num):\n",
    "    count = 0\n",
    "    for i in range(num+1):\n",
    "        count+=i\n",
    "    print(count)\n",
    "SimpleAdding(12)"
   ]
  },
  {
   "cell_type": "code",
   "execution_count": 1,
   "metadata": {},
   "outputs": [
    {
     "output_type": "stream",
     "name": "stdout",
     "text": [
      "hello\nworld\nHello World \n"
     ]
    }
   ],
   "source": [
    "import string\n",
    "def LetterCapitalize(strParam):\n",
    "    a=''\n",
    "    for i in strParam.split(' '):\n",
    "        print(i)\n",
    "        if i[0].lower():\n",
    "            i = i.capitalize()\n",
    "            a+=i\n",
    "            a+=' '\n",
    "    print(a)\n",
    "LetterCapitalize('hello world')\n"
   ]
  },
  {
   "cell_type": "code",
   "execution_count": 46,
   "metadata": {},
   "outputs": [
    {
     "output_type": "stream",
     "name": "stdout",
     "text": [
      "5\n"
     ]
    }
   ],
   "source": [
    "def count_bits(n):\n",
    "    a =  \"{0:b}\".format(n)\n",
    "    count = 0\n",
    "    #return len(a)\n",
    "    for i in range(len(a)):\n",
    "       # print(type(a[i]))\n",
    "        if a[i] == '1':\n",
    "\n",
    "            count += 1\n",
    "    print(count)\n",
    "\n",
    "count_bits(1234)"
   ]
  },
  {
   "source": [
    "Problem solved: https://www.codewars.com/kata/52fba66badcd10859f00097e/train/python"
   ],
   "cell_type": "markdown",
   "metadata": {}
  },
  {
   "cell_type": "code",
   "execution_count": 68,
   "metadata": {},
   "outputs": [
    {
     "output_type": "execute_result",
     "data": {
      "text/plain": [
       "'bcd sd frfr'"
      ]
     },
     "metadata": {},
     "execution_count": 68
    }
   ],
   "source": [
    "def disemvowel(string):\n",
    "    vow = ['a', 'e', 'i', 'o', 'u','A','E','I','O','U']\n",
    "    for ext in vow:\n",
    "        if ext in string:\n",
    "\n",
    "            string = string.replace(ext,'')\n",
    "    return string\n",
    "    #return string_\n",
    "\n",
    "disemvowel('abcd asd Ofreeiifr')"
   ]
  },
  {
   "source": [
    "Problem solved: https://www.codewars.com/kata/54ff3102c1bad923760001f3/train/python"
   ],
   "cell_type": "markdown",
   "metadata": {}
  },
  {
   "cell_type": "code",
   "execution_count": 5,
   "metadata": {},
   "outputs": [
    {
     "output_type": "stream",
     "name": "stdout",
     "text": [
      "a\ne\ni\no\nu\n"
     ]
    },
    {
     "output_type": "execute_result",
     "data": {
      "text/plain": [
       "7"
      ]
     },
     "metadata": {},
     "execution_count": 5
    }
   ],
   "source": [
    "def get_count(string):\n",
    "    vow = ['a', 'e', 'i', 'o', 'u']\n",
    "    count = 0\n",
    "    for ext in vow:\n",
    "        print(ext)\n",
    "        a = string.count(ext)\n",
    "        count += a\n",
    "        \n",
    "            \n",
    "           \n",
    "    return count\n",
    "    #return string_\n",
    "\n",
    "get_count('abcd asd ofreeiifr')"
   ]
  },
  {
   "source": [
    "Problem solved: https://www.codewars.com/kata/546f922b54af40e1e90001da/train/python"
   ],
   "cell_type": "markdown",
   "metadata": {}
  },
  {
   "cell_type": "code",
   "execution_count": 63,
   "metadata": {},
   "outputs": [
    {
     "output_type": "stream",
     "name": "stdout",
     "text": [
      "20 8 5 19 21 14 19 5 20 19 5 20 19 1 20 20 23 5 12 22 5 15 3 12 15 3 11\n"
     ]
    }
   ],
   "source": [
    "import string\n",
    "def alphabet_position(text):\n",
    "    alpha_dict = {letter:idx+1 for idx, letter in enumerate(string.ascii_lowercase)}\n",
    "    ALPHA_DICT =  {letter:idx+1 for idx, letter in enumerate(string.ascii_uppercase)}\n",
    "    #print(alpha_dict)\n",
    "    text_list = list(text)\n",
    "    final = []\n",
    "    #print(text_list)\n",
    "    for i in range(len(text_list)):\n",
    "        if text_list[i] in alpha_dict.keys():\n",
    "            final.append(alpha_dict[text_list[i]])\n",
    "        if text_list[i] in ALPHA_DICT.keys():\n",
    "            final.append(ALPHA_DICT[text_list[i]])\n",
    "    #final = \n",
    "    string_ints = [str(int) for int in final] \n",
    "    return ' '.join(string_ints)\n",
    "    \n",
    "\n",
    "\n",
    "\n",
    "print(alphabet_position(\"The sunset sets at twelve o' clock.\"))"
   ]
  }
 ]
}