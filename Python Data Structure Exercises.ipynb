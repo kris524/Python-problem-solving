{
 "cells": [
  {
   "cell_type": "markdown",
   "metadata": {},
   "source": [
    "Exercise Question 1: Given a two list. Create a third list by picking an odd-index element from the first list and even index elements from second."
   ]
  },
  {
   "cell_type": "code",
   "execution_count": 12,
   "metadata": {},
   "outputs": [
    {
     "name": "stdout",
     "output_type": "stream",
     "text": [
      "[6, 12, 18, 4, 12, 20, 28]\n"
     ]
    }
   ],
   "source": [
    "the_list = []\n",
    "\n",
    "listOne = [3, 6, 9, 12, 15, 18, 21]\n",
    "listTwo = [4, 8, 12, 16, 20, 24, 28]\n",
    "\n",
    "for i in range(len(listOne)):\n",
    "    if i %2 != 0:\n",
    "        the_list.append(listOne[i])\n",
    "for j in range(len(listTwo)):\n",
    "    if j %2==0:\n",
    "        the_list.append(listTwo[j])\n",
    "        \n",
    "print(the_list)\n",
    "\n"
   ]
  },
  {
   "cell_type": "code",
   "execution_count": 11,
   "metadata": {},
   "outputs": [
    {
     "name": "stdout",
     "output_type": "stream",
     "text": [
      "0 4\n",
      "1 8\n",
      "2 12\n",
      "3 16\n",
      "4 20\n",
      "5 24\n",
      "6 28\n"
     ]
    }
   ],
   "source": [
    "for j in range(len(listTwo)):\n",
    "    print(j, listTwo[j])"
   ]
  },
  {
   "cell_type": "markdown",
   "metadata": {},
   "source": [
    "Exercise Question 2: Given an input list removes the element at index 4 and add it to the 2nd position and also, at the end of the list"
   ]
  },
  {
   "cell_type": "code",
   "execution_count": 32,
   "metadata": {},
   "outputs": [
    {
     "name": "stdout",
     "output_type": "stream",
     "text": [
      "Original list: [34, 54, 67, 89, 11, 43, 94]\n",
      "remove 4th index: [34, 54, 67, 89, 43, 94]\n",
      "add the number to the 2nd index: [34, 54, 11, 67, 89, 43, 94]\n",
      "adding the number at the end of the list: [34, 54, 11, 67, 89, 43, 94, 11]\n"
     ]
    }
   ],
   "source": [
    "original_list = [34, 54, 67, 89, 11, 43, 94]\n",
    "print('Original list:',original_list)\n",
    "number = original_list.pop(4)\n",
    "print('remove 4th index:',original_list)\n",
    "\n",
    "#num_list.insert(index, num)\n",
    "original_list.insert(2,number)\n",
    "print('add the number to the 2nd index:',original_list)\n",
    "\n",
    "original_list.insert(len(original_list)+1,number)\n",
    "print('adding the number at the end of the list:',original_list)\n",
    "#notice that I have generalised it to every list"
   ]
  },
  {
   "cell_type": "markdown",
   "metadata": {},
   "source": [
    "Exercise Question 3: Given a list slice it into a 3 equal chunks and rever each list"
   ]
  },
  {
   "cell_type": "code",
   "execution_count": 44,
   "metadata": {},
   "outputs": [],
   "source": [
    "sampleList = [11, 45, 8, 23, 14, 12, 78, 45, 89]\n",
    "# for 3 chunks, we need the first requirement which is\n",
    "if len(sampleList)%2 == 0 and (len(sampleList) - 3)%2 !=0 and  (len(sampleList) + 3)%2 !=0:\n",
    "    \n",
    "   length = len(sampleList)\n",
    "   chunkSize  = int(length/3) \n",
    "   indexes = slice(0,chunkSize) \n",
    "  \n",
    "    \n",
    "#if len(sampleList)%2 != 0 and (len(sampleList) - 3)%2 ==0 and  (len(sampleList) + 3)%2 ==0:\n",
    "\n",
    "     \n",
    "  \n",
    "    \n",
    "    \n"
   ]
  },
  {
   "cell_type": "code",
   "execution_count": null,
   "metadata": {},
   "outputs": [],
   "source": []
  },
  {
   "cell_type": "code",
   "execution_count": null,
   "metadata": {},
   "outputs": [],
   "source": []
  },
  {
   "cell_type": "code",
   "execution_count": null,
   "metadata": {},
   "outputs": [],
   "source": []
  },
  {
   "cell_type": "code",
   "execution_count": null,
   "metadata": {},
   "outputs": [],
   "source": []
  },
  {
   "cell_type": "code",
   "execution_count": null,
   "metadata": {},
   "outputs": [],
   "source": []
  },
  {
   "cell_type": "code",
   "execution_count": null,
   "metadata": {},
   "outputs": [],
   "source": []
  },
  {
   "cell_type": "code",
   "execution_count": null,
   "metadata": {},
   "outputs": [],
   "source": []
  }
 ],
 "metadata": {
  "kernelspec": {
   "display_name": "Python 3",
   "language": "python",
   "name": "python3"
  },
  "language_info": {
   "codemirror_mode": {
    "name": "ipython",
    "version": 3
   },
   "file_extension": ".py",
   "mimetype": "text/x-python",
   "name": "python",
   "nbconvert_exporter": "python",
   "pygments_lexer": "ipython3",
   "version": "3.7.4"
  }
 },
 "nbformat": 4,
 "nbformat_minor": 2
}
