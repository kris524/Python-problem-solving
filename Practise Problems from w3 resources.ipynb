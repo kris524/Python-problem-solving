{
 "cells": [
  {
   "cell_type": "code",
   "execution_count": 17,
   "metadata": {},
   "outputs": [
    {
     "data": {
      "text/plain": [
       "'en... en... enthusiastic?'"
      ]
     },
     "execution_count": 17,
     "metadata": {},
     "output_type": "execute_result"
    }
   ],
   "source": [
    "#Stuttering Function\n",
    "\n",
    "def stutter(str1):\n",
    "    return f'{str1[0:2]}... {str1[0:2]}... {str1}?'\n",
    "    \n",
    "    \n",
    "    \n",
    "\n",
    "\n",
    "stutter('enthusiastic')"
   ]
  },
  {
   "cell_type": "code",
   "execution_count": 18,
   "metadata": {},
   "outputs": [
    {
     "data": {
      "text/plain": [
       "7300"
      ]
     },
     "execution_count": 18,
     "metadata": {},
     "output_type": "execute_result"
    }
   ],
   "source": [
    "def calc_age(age):\n",
    "    return age*365\n",
    "    \n",
    "calc_age(20)"
   ]
  },
  {
   "cell_type": "code",
   "execution_count": 25,
   "metadata": {},
   "outputs": [
    {
     "data": {
      "text/plain": [
       "False"
      ]
     },
     "execution_count": 25,
     "metadata": {},
     "output_type": "execute_result"
    }
   ],
   "source": [
    "#Finding Adjacent Nodes\n",
    "#you give a matrix and the two nodes in question to check if they are connected or not\n",
    "import numpy as np\n",
    "def is_adjacent(matrix, node1, node2):\n",
    "    if matrix[node1][node2] == 0:\n",
    "        return False\n",
    "    elif matrix[node1][node2] ==1:\n",
    "        return True\n",
    "\n",
    "\n",
    "\n",
    "matrix= [\n",
    "  [ 0, 1, 0, 0 ],\n",
    "  [ 1, 0, 1, 1 ],\n",
    "  [ 0, 1, 0, 1 ],\n",
    "  [ 0, 1, 1, 0 ]\n",
    "]\n",
    "is_adjacent(matrix,1,1)"
   ]
  },
  {
   "cell_type": "code",
   "execution_count": 47,
   "metadata": {},
   "outputs": [
    {
     "data": {
      "text/plain": [
       "'4'"
      ]
     },
     "execution_count": 47,
     "metadata": {},
     "output_type": "execute_result"
    }
   ],
   "source": [
    "#Python gor drunk\n",
    "def int_to_str(num):\n",
    "    return str(num)\n",
    "\n",
    "def str_to_int(num):\n",
    "    return int(num)\n",
    "\n",
    "int_to_str(4)\n",
    "#str_to_int(4)"
   ]
  },
  {
   "cell_type": "code",
   "execution_count": 53,
   "metadata": {},
   "outputs": [
    {
     "data": {
      "text/plain": [
       "[1, 2, 3, 4, 5]"
      ]
     },
     "execution_count": 53,
     "metadata": {},
     "output_type": "execute_result"
    }
   ],
   "source": [
    "#remove duplicates form a list\n",
    "import numpy as np\n",
    "def remove(list1):\n",
    "    list1 = np.unique(list1)\n",
    "    return list(list1)\n",
    "\n",
    "remove([1,2,3,3,3,3,4,5])"
   ]
  },
  {
   "cell_type": "code",
   "execution_count": 162,
   "metadata": {},
   "outputs": [
    {
     "name": "stdout",
     "output_type": "stream",
     "text": [
      "prime\n"
     ]
    }
   ],
   "source": [
    "#check if number is prime\n",
    "\n",
    "def prime(num):\n",
    "     \n",
    "        \n",
    "    #if num % 2 == 0:\n",
    "        \n",
    "        #print('not a prime')\n",
    "    \n",
    "    if num ==1 or num ==0 :\n",
    "        print('not a prime')\n",
    "        \n",
    "    elif num ==2:\n",
    "        print('prime')\n",
    "        \n",
    "    else:\n",
    "        for i in range(2,num):\n",
    "            if num % i ==0:\n",
    "                \n",
    "                return 'not prime'\n",
    "                \n",
    "            \n",
    "        \n",
    "        return 'prime'\n",
    "                \n",
    "        \n",
    "   \n",
    "        \n",
    "print(prime(193))"
   ]
  },
  {
   "cell_type": "code",
   "execution_count": null,
   "metadata": {},
   "outputs": [],
   "source": []
  },
  {
   "cell_type": "code",
   "execution_count": null,
   "metadata": {},
   "outputs": [],
   "source": []
  },
  {
   "cell_type": "code",
   "execution_count": null,
   "metadata": {},
   "outputs": [],
   "source": []
  }
 ],
 "metadata": {
  "kernelspec": {
   "display_name": "Python 3",
   "language": "python",
   "name": "python3"
  },
  "language_info": {
   "codemirror_mode": {
    "name": "ipython",
    "version": 3
   },
   "file_extension": ".py",
   "mimetype": "text/x-python",
   "name": "python",
   "nbconvert_exporter": "python",
   "pygments_lexer": "ipython3",
   "version": "3.7.4"
  }
 },
 "nbformat": 4,
 "nbformat_minor": 2
}
