{
 "cells": [
  {
   "cell_type": "code",
   "execution_count": 29,
   "metadata": {},
   "outputs": [
    {
     "name": "stdout",
     "output_type": "stream",
     "text": [
      "pick a number between 1 and 10\n",
      "3\n",
      "The computer got it wrong, it guessed 8 instead of your 3\n",
      "Go lower\n",
      "The computer got it wrong, it guessed 5 instead of your 3\n",
      "Go lower\n",
      "The computer got it wrong, it guessed 4 instead of your 3\n",
      "Go lower\n",
      "The comp got your number right\n",
      "It guessed 3\n"
     ]
    }
   ],
   "source": [
    "import numpy as np\n",
    "import random\n",
    "\n",
    "random_number = random.randint(1,10)\n",
    "print('pick a number between 1 and 10')\n",
    "N= int(input())\n",
    "\n",
    "while N != random_number:\n",
    "\n",
    "    if N > random_number:\n",
    "    \n",
    "        print('The computer got it wrong, it guessed {} instead of your {}'.format(random_number,N))\n",
    "        print('Go higher')\n",
    "    #I want to add a filter to make it easier for the comp\n",
    "        random_number = random.randint(random_number+1,N)\n",
    "    \n",
    "    if N < random_number:\n",
    "        print('The computer got it wrong, it guessed {} instead of your {}'.format(random_number,N))\n",
    "        print('Go lower')\n",
    "        random_number = random.randint(N,random_number-1)\n",
    "    \n",
    "if N == random_number:\n",
    "    print('The comp got your number right')\n",
    "    print('It guessed {}'.format(random_number))\n",
    "\n",
    "\n"
   ]
  },
  {
   "cell_type": "code",
   "execution_count": null,
   "metadata": {},
   "outputs": [],
   "source": []
  }
 ],
 "metadata": {
  "kernelspec": {
   "display_name": "Python 3",
   "language": "python",
   "name": "python3"
  },
  "language_info": {
   "codemirror_mode": {
    "name": "ipython",
    "version": 3
   },
   "file_extension": ".py",
   "mimetype": "text/x-python",
   "name": "python",
   "nbconvert_exporter": "python",
   "pygments_lexer": "ipython3",
   "version": "3.7.4"
  }
 },
 "nbformat": 4,
 "nbformat_minor": 2
}
