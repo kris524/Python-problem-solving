{
 "cells": [
  {
   "cell_type": "code",
   "execution_count": 6,
   "metadata": {},
   "outputs": [
    {
     "name": "stdout",
     "output_type": "stream",
     "text": [
      "10\n",
      "You didnt guess it, try again\n",
      "go lower\n",
      "9\n",
      "You didnt guess it, try again\n",
      "go lower\n",
      "8\n",
      "You didnt guess it, try again\n",
      "go lower\n",
      "7\n",
      "You didnt guess it, try again\n",
      "go lower\n",
      "6\n",
      "The random number was: 6\n",
      "You guessed it\n"
     ]
    }
   ],
   "source": [
    "import random \n",
    "\n",
    "z = random.randint(1,10)\n",
    "N = int(input())\n",
    "\n",
    "\n",
    "while N != z and N>z:\n",
    "   \n",
    "    print('You didnt guess it, try again')\n",
    "    print('go lower')\n",
    "    N = int(input())\n",
    "    #print('The number was',z)\n",
    "while N!=z and N<z:\n",
    "    print('You didnt guess it, try again')\n",
    "    print('go higher')\n",
    "    N=int(input())\n",
    "\n",
    "        \n",
    "if N == z:\n",
    "        print('The random number was:',z)\n",
    "        print('You guessed it')"
   ]
  },
  {
   "cell_type": "code",
   "execution_count": null,
   "metadata": {},
   "outputs": [],
   "source": []
  }
 ],
 "metadata": {
  "kernelspec": {
   "display_name": "Python 3",
   "language": "python",
   "name": "python3"
  },
  "language_info": {
   "codemirror_mode": {
    "name": "ipython",
    "version": 3
   },
   "file_extension": ".py",
   "mimetype": "text/x-python",
   "name": "python",
   "nbconvert_exporter": "python",
   "pygments_lexer": "ipython3",
   "version": "3.7.4"
  }
 },
 "nbformat": 4,
 "nbformat_minor": 2
}
